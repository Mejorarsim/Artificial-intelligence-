{
 "cells": [
  {
   "cell_type": "code",
   "execution_count": 1,
   "id": "845b18e5",
   "metadata": {},
   "outputs": [
    {
     "name": "stdout",
     "output_type": "stream",
     "text": [
      "Requirement already satisfied: pytesseract in c:\\users\\simran\\anaconda\\lib\\site-packages (0.3.10)\n",
      "Requirement already satisfied: packaging>=21.3 in c:\\users\\simran\\anaconda\\lib\\site-packages (from pytesseract) (23.1)\n",
      "Requirement already satisfied: Pillow>=8.0.0 in c:\\users\\simran\\anaconda\\lib\\site-packages (from pytesseract) (9.4.0)\n"
     ]
    }
   ],
   "source": [
    "# !pip install pytesseract\n"
   ]
  },
  {
   "cell_type": "code",
   "execution_count": 37,
   "id": "4a2711bc",
   "metadata": {},
   "outputs": [],
   "source": [
    "# pip install pytesseract opencv-python\n"
   ]
  },
  {
   "cell_type": "code",
   "execution_count": 38,
   "id": "915c7911",
   "metadata": {},
   "outputs": [],
   "source": [
    "import pytesseract\n",
    "import cv2\n",
    "import os\n"
   ]
  },
  {
   "cell_type": "code",
   "execution_count": 40,
   "id": "af1e67f6",
   "metadata": {},
   "outputs": [],
   "source": [
    "\n",
    "# Define the image file name\n",
    "image_file = 'Test1.jpg'\n",
    "\n",
    "# Check if the image file exists\n",
    "if not os.path.isfile(image_file):\n",
    "    print(f\"Error: Image file '{image_file}' not found.\")\n",
    "else:\n",
    "    # Load the image\n",
    "    img = cv2.imread(image_file)\n",
    "\n",
    "    # Check if the image is loaded successfully\n",
    "    if img is None:\n",
    "        print(f\"Error: Failed to load image '{image_file}'.\")\n",
    "    else:\n",
    "        # Resize the image\n",
    "        resized_img = cv2.resize(img, (720, 480))\n",
    "\n",
    "        # Display the image\n",
    "        cv2.imshow('Result', resized_img)\n",
    "\n",
    "        # Wait for a key press and close the window\n",
    "        cv2.waitKey(0)\n",
    "        cv2.destroyAllWindows()\n"
   ]
  },
  {
   "cell_type": "code",
   "execution_count": 41,
   "id": "05a19f90",
   "metadata": {},
   "outputs": [
    {
     "name": "stdout",
     "output_type": "stream",
     "text": [
      "Current Working Directory: C:\\Users\\Simran\\Desktop\\AI\n"
     ]
    }
   ],
   "source": [
    "\n",
    "print(\"Current Working Directory:\", os.getcwd())\n"
   ]
  },
  {
   "cell_type": "code",
   "execution_count": 42,
   "id": "82c2c204",
   "metadata": {},
   "outputs": [
    {
     "name": "stdout",
     "output_type": "stream",
     "text": [
      "4.10.0\n"
     ]
    }
   ],
   "source": [
    "\n",
    "print(cv2.__version__)\n"
   ]
  },
  {
   "cell_type": "code",
   "execution_count": 43,
   "id": "df42f369",
   "metadata": {},
   "outputs": [],
   "source": [
    "# pip install --upgrade opencv-python\n"
   ]
  },
  {
   "cell_type": "code",
   "execution_count": 44,
   "id": "48b6518b",
   "metadata": {},
   "outputs": [],
   "source": [
    "pytesseract.pytesseract.tesseract_cmd = r\"C:\\Program Files (x86)\\Tesseract-OCR\\tesseract.exe\""
   ]
  },
  {
   "cell_type": "code",
   "execution_count": 46,
   "id": "7f40c1b8",
   "metadata": {},
   "outputs": [],
   "source": [
    "\n",
    "# Define the image file name\n",
    "image_file = 'Test1.jpg'\n",
    "\n"
   ]
  },
  {
   "cell_type": "code",
   "execution_count": 47,
   "id": "1d8049c0",
   "metadata": {},
   "outputs": [
    {
     "name": "stdout",
     "output_type": "stream",
     "text": [
      "Extracted Text:\n",
      "BE SO GOOD\n",
      "THEY CAN'T\n",
      "IGNORE YOU\n",
      "\n",
      "— STEVE MARTIN\n",
      "\n",
      "\n"
     ]
    }
   ],
   "source": [
    "# Check if the image file exists\n",
    "if not os.path.isfile(image_file):\n",
    "    print(f\"Error: Image file '{image_file}' not found.\")\n",
    "else:\n",
    "    # Load the image\n",
    "    img = cv2.imread(image_file)\n",
    "\n",
    "    # Check if the image is loaded successfully\n",
    "    if img is None:\n",
    "        print(f\"Error: Failed to load image '{image_file}'.\")\n",
    "    else:\n",
    "        # Resize the image\n",
    "        resized_img = cv2.resize(img, (600, 360))\n",
    "\n",
    "        # Convert image to RGB (pytesseract requires RGB format)\n",
    "        img_rgb = cv2.cvtColor(resized_img, cv2.COLOR_BGR2RGB)\n",
    "\n",
    "        # Perform OCR using pytesseract\n",
    "        text = pytesseract.image_to_string(img_rgb)\n",
    "\n",
    "        # Print the extracted text\n",
    "        print(\"Extracted Text:\")\n",
    "        print(text)\n",
    "\n",
    "        # Display the resized image\n",
    "        cv2.imshow('Result', resized_img)\n",
    "\n",
    "        # Wait for a key press and then close the window\n",
    "        cv2.waitKey(0)\n",
    "        cv2.destroyAllWindows()\n"
   ]
  },
  {
   "cell_type": "code",
   "execution_count": 48,
   "id": "bfbab50a",
   "metadata": {},
   "outputs": [
    {
     "name": "stdout",
     "output_type": "stream",
     "text": [
      "Character: B, Bounding Box: left=140, top=221, right=170, bottom=251\n",
      "Character: E, Bounding Box: left=180, top=221, right=206, bottom=251\n",
      "Character: S, Bounding Box: left=232, top=220, right=264, bottom=252\n",
      "Character: O, Bounding Box: left=272, top=220, right=302, bottom=252\n",
      "Character: G, Bounding Box: left=328, top=220, right=358, bottom=252\n",
      "Character: O, Bounding Box: left=368, top=220, right=398, bottom=252\n",
      "Character: O, Bounding Box: left=408, top=220, right=439, bottom=252\n",
      "Character: D, Bounding Box: left=446, top=221, right=477, bottom=251\n",
      "Character: T, Bounding Box: left=129, top=176, right=160, bottom=206\n",
      "Character: H, Bounding Box: left=169, top=176, right=199, bottom=206\n",
      "Character: E, Bounding Box: left=212, top=176, right=238, bottom=206\n",
      "Character: Y, Bounding Box: left=247, top=176, right=278, bottom=206\n",
      "Character: C, Bounding Box: left=305, top=175, right=335, bottom=207\n",
      "Character: A, Bounding Box: left=342, top=176, right=375, bottom=206\n",
      "Character: N, Bounding Box: left=385, top=176, right=417, bottom=206\n",
      "Character: ', Bounding Box: left=427, top=196, right=436, bottom=206\n",
      "Character: T, Bounding Box: left=446, top=176, right=477, bottom=206\n",
      "Character: I, Bounding Box: left=127, top=131, right=138, bottom=162\n",
      "Character: G, Bounding Box: left=148, top=131, right=178, bottom=162\n",
      "Character: N, Bounding Box: left=188, top=131, right=220, bottom=162\n",
      "Character: O, Bounding Box: left=229, top=131, right=260, bottom=162\n",
      "Character: R, Bounding Box: left=271, top=131, right=301, bottom=162\n",
      "Character: E, Bounding Box: left=310, top=132, right=337, bottom=161\n",
      "Character: Y, Bounding Box: left=362, top=131, right=394, bottom=162\n",
      "Character: O, Bounding Box: left=404, top=131, right=434, bottom=162\n",
      "Character: U, Bounding Box: left=443, top=131, right=473, bottom=162\n",
      "Character: —, Bounding Box: left=182, top=99, right=202, bottom=101\n",
      "Character: S, Bounding Box: left=208, top=93, right=223, bottom=108\n",
      "Character: T, Bounding Box: left=223, top=94, right=238, bottom=108\n",
      "Character: E, Bounding Box: left=241, top=94, right=253, bottom=108\n",
      "Character: V, Bounding Box: left=256, top=94, right=271, bottom=108\n",
      "Character: E, Bounding Box: left=274, top=94, right=287, bottom=108\n",
      "Character: M, Bounding Box: left=301, top=94, right=320, bottom=108\n",
      "Character: A, Bounding Box: left=323, top=94, right=338, bottom=108\n",
      "Character: R, Bounding Box: left=342, top=94, right=356, bottom=108\n",
      "Character: T, Bounding Box: left=359, top=94, right=372, bottom=108\n",
      "Character: I, Bounding Box: left=374, top=94, right=380, bottom=108\n",
      "Character: N, Bounding Box: left=385, top=93, right=401, bottom=108\n"
     ]
    }
   ],
   "source": [
    "    # Resize the image\n",
    "    img = cv2.resize(img, (600, 360))\n",
    "    \n",
    "    # Convert image to RGB (pytesseract requires RGB format)\n",
    "    img_rgb = cv2.cvtColor(img, cv2.COLOR_BGR2RGB)\n",
    "\n",
    "    # Perform OCR to get bounding boxes\n",
    "    boxes_data = pytesseract.image_to_boxes(img_rgb)\n",
    "\n",
    "    # Process each line in the result\n",
    "    for line in boxes_data.splitlines():\n",
    "        b = line.split()\n",
    "        char = b[0]\n",
    "        x, y, w, h = int(b[1]), int(b[2]), int(b[3]), int(b[4])\n",
    "        \n",
    "        # Print character and its bounding box coordinates\n",
    "        print(f\"Character: {char}, Bounding Box: left={x}, top={y}, right={w}, bottom={h}\")\n",
    "\n",
    "        # Draw bounding box and put text on the image\n",
    "        cv2.rectangle(img, (x, img.shape[0] - y), (w, img.shape[0] - h), (0, 255, 0), 2)\n",
    "        cv2.putText(img, char, (x, img.shape[0] - y + 25), cv2.FONT_HERSHEY_SIMPLEX, 1, (0, 0, 255), 2)\n",
    "\n",
    "    # Display the result image with bounding boxes\n",
    "    cv2.imshow('Result', img)\n",
    "    cv2.waitKey(0)\n",
    "    cv2.destroyAllWindows()\n"
   ]
  },
  {
   "cell_type": "code",
   "execution_count": null,
   "id": "8ea001cb",
   "metadata": {},
   "outputs": [],
   "source": [
    "-- Thank you--"
   ]
  }
 ],
 "metadata": {
  "kernelspec": {
   "display_name": "Python 3 (ipykernel)",
   "language": "python",
   "name": "python3"
  },
  "language_info": {
   "codemirror_mode": {
    "name": "ipython",
    "version": 3
   },
   "file_extension": ".py",
   "mimetype": "text/x-python",
   "name": "python",
   "nbconvert_exporter": "python",
   "pygments_lexer": "ipython3",
   "version": "3.11.5"
  }
 },
 "nbformat": 4,
 "nbformat_minor": 5
}
